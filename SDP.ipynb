{
 "cells": [
  {
   "cell_type": "markdown",
   "metadata": {},
   "source": [
    "<center><span style=\"font-family: Arial; font-size:2em;color:blue;\"><b> Final project in Compressed Sensing </b></p> \n",
    "</center>\n",
    "\n",
    "&NewLine;\n",
    "\n",
    "\n",
    "<center><span style=\"font-family: Arial; font-size:1.5em;\"><b> Re-implementation for the article \"Semidefinite relaxations for certifying robustness to adversarial examples\"</b></p> \n",
    "</center>\n",
    "\n",
    "\n",
    "&NewLine;\n",
    "\n",
    "<center><span style=\"font-family: Arial; font-size:1em;\"> VU Thi Van Anh \n",
    "    </p> \n",
    "</center>"
   ]
  },
  {
   "cell_type": "markdown",
   "metadata": {},
   "source": [
    "# Introduction"
   ]
  },
  {
   "cell_type": "markdown",
   "metadata": {},
   "source": [
    "Recent advances deep learning and deep neural networks are widely used in solving multiple important practical problems such as image/ speech recognition, text classification and others. However, most existing machine learning classifiers, notably the neural network are highly vulnerable to adversarial problems. In recent years, many works (Szegedy et al., 2013; Goodfellow et al., 2014b; He et al., 2016) have shown that DNN models are vulnerable to adversarial examples, which can be formally defined as – “Adversarial examples are inputs to machine learning models that an attacker intentionally designed to cause the model to make mistakes.” In the image classification domain, these adversarial examples are intentionally synthesized images which look almost exactly the same as the original images, but can mislead the classifier to provide wrong prediction outputs with high confidence.\n",
    "\n",
    "To deal with the threat of adversarial examples, several studied has been conducted such as Gradient Masking (Papernot et al., 2016b; Athalye et al., 2018), Robust\n",
    "Optimization (Madry et al., 2017; Kurakin et al., 2016b) and Adversary Detection (Carlini & Wagner, 2017a; Xu et al., 2017). However, in this paper, we study the **certified defenses against attacks on neural network** proposed by Raghunathan et al, 2018. This paper proposed a Semidefinite Programming (SDP) relaxation for multi-layer networks with Rectified Linear Unit (Relu) activations and adversaries bounded by infinity norm ball. In this paper, the authors express the ReLu constraint as an equivalent quadratic constraint and the method adopted here formulates these as quadratic constraints to obtain a quadratic program that is then relaxed to an SDP. The experimental results are compelling, constructing the first certificate of robustness for verification-oblivious MNIST models with respect to moderate sized $L\\infty$ perturbations.  \n",
    "\n",
    "\n",
    "In this project, we focus on re-implementing SDP methods as propsed paper and testing this method with 3 models Grad-NN, LP-NN and PGD-NN. Our notebook is organized as below:\n",
    "- Introducing\n",
    "- Using different models to run cerfitication\n",
    "  - **Grad-NN**: In this subsection, we'll consider a two-layer network based on an SDP bound on the gradient of the network.\n",
    "  - **LP-NN**: In this subsection, we'll consider a two-layer network based on the Linear Programming training procedure. Linear Programming is a special case of SDP when the constraint is linear. Comparing the SDP which can handles arbitrary number of layers, LP-based neural network only accepts a layer number restricted to twp.\n",
    "  - **PGD-NN**: We consider a fully-connected network with four layers containing 200;100 and 50 hidden nodes (i.e., the architecture is 784-200-100-50-10). We train this network using trainin against the strong PGD attack. \n",
    "  \n",
    "  Furthermore, in each model above, we try to test with created attacks (10000 images) which are constructed by adding noises to original images, a natural idea is to de-noise adversarial examples before sending them to the target model and consider if these models can remove all adversarial perturbations?\n",
    "- Conclusion."
   ]
  },
  {
   "cell_type": "markdown",
   "metadata": {},
   "source": [
    "# Simulation"
   ]
  },
  {
   "cell_type": "markdown",
   "metadata": {},
   "source": [
    "**Prequirement**\n",
    "\n",
    "In this following part of code, different convex program arises in the certification procedure are solve by toolbox **YALMIP** with **MOSEK** as backend in **MATLAB**.\n",
    "\n",
    "Several required packages for MATLAB includes:\n",
    "\n",
    "- YALMIP\n",
    "- SEDUMI\n",
    "- SDPT3\n",
    "- MOSEK"
   ]
  },
  {
   "cell_type": "code",
   "execution_count": 1,
   "metadata": {},
   "outputs": [
    {
     "name": "stderr",
     "output_type": "stream",
     "text": [
      "D:\\Code\\Anaconda3\\envs\\THANGHOANG\\lib\\site-packages\\tensorflow\\python\\framework\\dtypes.py:523: FutureWarning: Passing (type, 1) or '1type' as a synonym of type is deprecated; in a future version of numpy, it will be understood as (type, (1,)) / '(1,)type'.\n",
      "  _np_qint8 = np.dtype([(\"qint8\", np.int8, 1)])\n",
      "D:\\Code\\Anaconda3\\envs\\THANGHOANG\\lib\\site-packages\\tensorflow\\python\\framework\\dtypes.py:524: FutureWarning: Passing (type, 1) or '1type' as a synonym of type is deprecated; in a future version of numpy, it will be understood as (type, (1,)) / '(1,)type'.\n",
      "  _np_quint8 = np.dtype([(\"quint8\", np.uint8, 1)])\n",
      "D:\\Code\\Anaconda3\\envs\\THANGHOANG\\lib\\site-packages\\tensorflow\\python\\framework\\dtypes.py:525: FutureWarning: Passing (type, 1) or '1type' as a synonym of type is deprecated; in a future version of numpy, it will be understood as (type, (1,)) / '(1,)type'.\n",
      "  _np_qint16 = np.dtype([(\"qint16\", np.int16, 1)])\n",
      "D:\\Code\\Anaconda3\\envs\\THANGHOANG\\lib\\site-packages\\tensorflow\\python\\framework\\dtypes.py:526: FutureWarning: Passing (type, 1) or '1type' as a synonym of type is deprecated; in a future version of numpy, it will be understood as (type, (1,)) / '(1,)type'.\n",
      "  _np_quint16 = np.dtype([(\"quint16\", np.uint16, 1)])\n",
      "D:\\Code\\Anaconda3\\envs\\THANGHOANG\\lib\\site-packages\\tensorflow\\python\\framework\\dtypes.py:527: FutureWarning: Passing (type, 1) or '1type' as a synonym of type is deprecated; in a future version of numpy, it will be understood as (type, (1,)) / '(1,)type'.\n",
      "  _np_qint32 = np.dtype([(\"qint32\", np.int32, 1)])\n",
      "D:\\Code\\Anaconda3\\envs\\THANGHOANG\\lib\\site-packages\\tensorflow\\python\\framework\\dtypes.py:532: FutureWarning: Passing (type, 1) or '1type' as a synonym of type is deprecated; in a future version of numpy, it will be understood as (type, (1,)) / '(1,)type'.\n",
      "  np_resource = np.dtype([(\"resource\", np.ubyte, 1)])\n"
     ]
    }
   ],
   "source": [
    "from __future__ import absolute_import\n",
    "from __future__ import division\n",
    "from __future__ import print_function\n",
    "\n",
    "import os\n",
    "import scipy.io as sio\n",
    "import numpy as np\n",
    "import tensorflow as tf\n",
    "import matplotlib.pyplot as plt\n",
    "from tqdm import tqdm\n",
    "\n",
    "import neural_net_params\n",
    "import read_weights\n",
    "import matlab_interface\n",
    "import compute_bounds\n",
    "import utils"
   ]
  },
  {
   "cell_type": "code",
   "execution_count": 2,
   "metadata": {},
   "outputs": [
    {
     "name": "stdout",
     "output_type": "stream",
     "text": [
      "Dimension of X (70000, 784)\n",
      "Dimension of Y (70000,)\n"
     ]
    }
   ],
   "source": [
    "# MNIST dataset parameters\n",
    "num_rows = 28\n",
    "num_columns = 28\n",
    "num_channels = 1\n",
    "\n",
    "\n",
    "# Load MNIST dataset\n",
    "mnist = sio.loadmat('/Users/hoang/THANG HOANG/mnist-original.mat')\n",
    "X, Y = mnist['data'].T, mnist['label'].ravel()\n",
    "\n",
    "# Dimension\n",
    "print('Dimension of X {}'.format(X.shape))\n",
    "print('Dimension of Y {}'.format(Y.shape))"
   ]
  },
  {
   "cell_type": "markdown",
   "metadata": {},
   "source": [
    "## Simulation of model 1- Grad-NN"
   ]
  },
  {
   "cell_type": "markdown",
   "metadata": {},
   "source": [
    "### Retrieve model and parameters"
   ]
  },
  {
   "cell_type": "code",
   "execution_count": 3,
   "metadata": {},
   "outputs": [
    {
     "name": "stdout",
     "output_type": "stream",
     "text": [
      "dict_keys(['model1/dense_1/bias', 'model1/dense/bias', 'model1/dense_1/kernel', 'model1/dense/kernel'])\n"
     ]
    }
   ],
   "source": [
    "# Load model from checkpoint\n",
    "reader = tf.train.load_checkpoint(\"models/nips_sdp.ckpt\")\n",
    "\n",
    "# Get variables' names\n",
    "variable_map = reader.get_variable_to_shape_map()\n",
    "checkpoint_variable_names = variable_map.keys()\n",
    "\n",
    "print(checkpoint_variable_names)"
   ]
  },
  {
   "cell_type": "markdown",
   "metadata": {},
   "source": [
    "**Model feedforward NN with no activation function** "
   ]
  },
  {
   "cell_type": "code",
   "execution_count": 4,
   "metadata": {},
   "outputs": [
    {
     "data": {
      "image/png": "[encoded data removed]",
      "text/plain": [
       "<Figure size 432x288 with 1 Axes>"
      ]
     },
     "metadata": {
      "needs_background": "light"
     },
     "output_type": "display_data"
    }
   ],
   "source": [
    "# This model is only feedforward layer with no activations\n",
    "net_layer_types = ['ff_relu', 'ff']\n",
    "\n",
    "# Get weights  \n",
    "net_weights = [\n",
    "    reader.get_tensor(tensor_str='model1/dense/kernel').T,\n",
    "    reader.get_tensor(tensor_str='model1/dense_1/kernel').T\n",
    "]\n",
    "\n",
    "# Get biases\n",
    "net_biases = [\n",
    "    reader.get_tensor(tensor_str='model1/dense/bias'),\n",
    "    reader.get_tensor(tensor_str='model1/dense_1/bias')\n",
    "]\n",
    "\n",
    "# Re-build neural net\n",
    "nn_params = neural_net_params.NeuralNetParams(\n",
    "  net_weights, net_biases, net_layer_types)\n",
    "\n",
    "# Get an image belonging to class 0 from MNIST to run certification\n",
    "test_input = X[0].reshape(-1,1) / 255.\n",
    "true_class = Y.astype(int)[0]\n",
    "\n",
    "\n",
    "# Check this image\n",
    "plt.figure()\n",
    "plt.imshow(test_input.reshape(28, 28))\n",
    "plt.gray()\n",
    "plt.axis(\"off\")\n",
    "plt.show()"
   ]
  },
  {
   "cell_type": "code",
   "execution_count": 5,
   "metadata": {},
   "outputs": [],
   "source": [
    "# Some parameters for running certification on adversarial class 1 \n",
    "adv_class = 1\n",
    "matlab_folder = 'matlab_folder'\n",
    "epsilon = 0.1\n",
    "input_minval = 0\n",
    "input_maxval = 1"
   ]
  },
  {
   "cell_type": "markdown",
   "metadata": {},
   "source": [
    "### Run SDP Certification on adversarial class 1 "
   ]
  },
  {
   "cell_type": "code",
   "execution_count": 6,
   "metadata": {},
   "outputs": [
    {
     "name": "stdout",
     "output_type": "stream",
     "text": [
      "matlab_folder\n",
      "(500, 784)\n",
      "Input example is robust to perturbation to adv class 1\n",
      "Input example succesfully verified\n"
     ]
    }
   ],
   "source": [
    "with tf.Session() as sess:\n",
    "    sess.run(tf.global_variables_initializer())\n",
    "    if not os.path.exists(matlab_folder):\n",
    "        os.mkdir(matlab_folder)\n",
    "    matlab_object = matlab_interface.MatlabInterface(matlab_folder)\n",
    "    # Save weights of NN model to matlab_object\n",
    "    matlab_object.save_weights(nn_params, sess)\n",
    "    opt_params = {}\n",
    "    opt_params['test_input'] = test_input\n",
    "    opt_params['epsilon'] = epsilon\n",
    "    opt_params['true_class'] = true_class\n",
    "    opt_params['adv_class'] = adv_class\n",
    "    opt_params['final_linear'] = sess.run(nn_params.final_weights[adv_class, :]\n",
    "             - nn_params.final_weights[true_class, :])\n",
    "    opt_params['final_constant'] = sess.run(nn_params.final_bias[adv_class]\n",
    "               - nn_params.final_bias[true_class])\n",
    "    lower, upper = compute_bounds.compute_bounds(test_input, epsilon,\n",
    "                                       input_minval, input_maxval, nn_params)\n",
    "    opt_params['lower'] = [sess.run(l) for l in lower]\n",
    "    opt_params['upper'] = [sess.run(u) for u in upper]\n",
    "    # Save optimisation's parameters to matlab_object\n",
    "    matlab_object.save_opt_params(opt_params)\n",
    "    \n",
    "    \n",
    "    # Run certification by resolving a optimisation problem on Matlab\n",
    "    os.system('matlab -sd \"THANG HOANG\\SDP\" -batch \"matlab_sdp(\\'matlab_folder\\')\"')\n",
    "    \n",
    "    \n",
    "    # Retrieve results and determine whether this input is certified\n",
    "    opt_val = sio.loadmat(os.path.join(matlab_folder, 'SDP_optimum.mat'))\n",
    "    opt_val = opt_val['val']\n",
    "    if(opt_val < 0):\n",
    "        print('Input example is robust to perturbation to adv class ' + str(adv_class))\n",
    "    else:\n",
    "        print('Input example cannot be certified as robust to perturbation to adv class ' + str(adv_class))\n",
    "        exit()\n",
    "print('Input example succesfully verified')"
   ]
  },
  {
   "cell_type": "markdown",
   "metadata": {},
   "source": [
    "### Check predicted values"
   ]
  },
  {
   "cell_type": "code",
   "execution_count": 7,
   "metadata": {},
   "outputs": [
    {
     "data": {
      "text/plain": [
       "0"
      ]
     },
     "execution_count": 7,
     "metadata": {},
     "output_type": "execute_result"
    }
   ],
   "source": [
    "# Get 10.000 fake images\n",
    "fake_images = np.repeat(test_input, 10000, axis=1) + np.random.uniform(-1, 1, (784, 10000))*0.1\n",
    "\n",
    "# Calculating output\n",
    "out_layer_1 = np.maximum(0, net_weights[0].dot(fake_images) + net_biases[0].reshape(-1, 1))\n",
    "output = net_weights[1].dot(out_layer_1) + net_biases[1].reshape(-1, 1)\n",
    "\n",
    "# Predicted values\n",
    "Y_pred = np.argmax(output, axis = 0)\n",
    "\n",
    "# Check incorrectly predicted values in class 1\n",
    "np.sum(Y_pred == 1)"
   ]
  },
  {
   "cell_type": "code",
   "execution_count": 8,
   "metadata": {},
   "outputs": [
    {
     "data": {
      "text/plain": [
       "(array([0], dtype=int64), array([10000], dtype=int64))"
      ]
     },
     "execution_count": 8,
     "metadata": {},
     "output_type": "execute_result"
    }
   ],
   "source": [
    "np.unique(Y_pred, return_counts=True)"
   ]
  },
  {
   "cell_type": "markdown",
   "metadata": {},
   "source": [
    "**Comment**"
   ]
  },
  {
   "cell_type": "markdown",
   "metadata": {},
   "source": [
    "## Simulation model 2: LP-NN"
   ]
  },
  {
   "cell_type": "markdown",
   "metadata": {},
   "source": [
    "### Retrieve model and parameters"
   ]
  },
  {
   "cell_type": "code",
   "execution_count": 9,
   "metadata": {},
   "outputs": [
    {
     "name": "stdout",
     "output_type": "stream",
     "text": [
      "dict_keys(['model1/dense_1/bias', 'model1/dense/bias', 'model1/dense_1/kernel', 'model1/dense/kernel'])\n"
     ]
    }
   ],
   "source": [
    "# Load model from checkpoint\n",
    "reader = tf.train.load_checkpoint(\"models/nips_lp.ckpt\")\n",
    "\n",
    "# Get variables' names\n",
    "variable_map = reader.get_variable_to_shape_map()\n",
    "checkpoint_variable_names = variable_map.keys()\n",
    "\n",
    "print(checkpoint_variable_names)"
   ]
  },
  {
   "cell_type": "markdown",
   "metadata": {},
   "source": [
    "**Model feedforward NN with no activation function** "
   ]
  },
  {
   "cell_type": "code",
   "execution_count": 11,
   "metadata": {},
   "outputs": [
    {
     "data": {
      "image/png": "[encoded data removed]",
      "text/plain": [
       "<Figure size 432x288 with 1 Axes>"
      ]
     },
     "metadata": {
      "needs_background": "light"
     },
     "output_type": "display_data"
    }
   ],
   "source": [
    "# This model is only feedforward layer with no activations\n",
    "net_layer_types = ['ff', 'ff']\n",
    "\n",
    "# Get weights  \n",
    "net_weights = [\n",
    "    reader.get_tensor(tensor_str='model1/dense/kernel').T,\n",
    "    reader.get_tensor(tensor_str='model1/dense_1/kernel').T\n",
    "]\n",
    "\n",
    "# Get biases\n",
    "net_biases = [\n",
    "    reader.get_tensor(tensor_str='model1/dense/bias'),\n",
    "    reader.get_tensor(tensor_str='model1/dense_1/bias')\n",
    "]\n",
    "\n",
    "# Re-build neural net\n",
    "nn_params = neural_net_params.NeuralNetParams(\n",
    "  net_weights, net_biases, net_layer_types)\n",
    "\n",
    "# Get an image belonging to class 0 from MNIST to run certification\n",
    "test_input = X[0].reshape(-1,1) / 255.\n",
    "true_class = Y.astype(int)[0]\n",
    "\n",
    "# Check this image\n",
    "plt.figure()\n",
    "plt.imshow(test_input.reshape(28, 28))\n",
    "plt.gray()\n",
    "plt.axis(\"off\")\n",
    "plt.show()"
   ]
  },
  {
   "cell_type": "code",
   "execution_count": 12,
   "metadata": {},
   "outputs": [],
   "source": [
    "# Because true_class = 0, we want to run certification on adversarial class = 6\n",
    "adv_class = 6\n",
    "input_minval = 0\n",
    "input_maxval = 1"
   ]
  },
  {
   "cell_type": "markdown",
   "metadata": {},
   "source": [
    "### Run SDP Certification on adversarial class 6"
   ]
  },
  {
   "cell_type": "code",
   "execution_count": 13,
   "metadata": {},
   "outputs": [
    {
     "name": "stdout",
     "output_type": "stream",
     "text": [
      "matlab_folder\n",
      "(500, 784)\n",
      "Input example is robust to perturbation to adv class 6\n",
      "Input example succesfully verified\n"
     ]
    }
   ],
   "source": [
    "with tf.Session() as sess:\n",
    "    sess.run(tf.global_variables_initializer())\n",
    "    if not os.path.exists(matlab_folder):\n",
    "        os.mkdir(matlab_folder)\n",
    "    matlab_object = matlab_interface.MatlabInterface(matlab_folder)\n",
    "    # Save weights of NN model to matlab_object\n",
    "    matlab_object.save_weights(nn_params, sess)\n",
    "    opt_params = {}\n",
    "    opt_params['test_input'] = test_input\n",
    "    opt_params['epsilon'] = epsilon\n",
    "    opt_params['true_class'] = true_class\n",
    "    opt_params['adv_class'] = adv_class\n",
    "    opt_params['final_linear'] = sess.run(nn_params.final_weights[adv_class, :]\n",
    "             - nn_params.final_weights[true_class, :])\n",
    "    opt_params['final_constant'] = sess.run(nn_params.final_bias[adv_class]\n",
    "               - nn_params.final_bias[true_class])\n",
    "    lower, upper = compute_bounds.compute_bounds(test_input, epsilon,\n",
    "                                       input_minval, input_maxval, nn_params)\n",
    "    opt_params['lower'] = [sess.run(l) for l in lower]\n",
    "    opt_params['upper'] = [sess.run(u) for u in upper]\n",
    "    # Save optimisation's parameters to matlab_object\n",
    "    matlab_object.save_opt_params(opt_params)\n",
    "    \n",
    "  \n",
    "    # Run certification by resolving a optimisation problem on Matlab\n",
    "    os.system('matlab -sd \"THANG HOANG\\SDP\" -batch \"matlab_sdp(\\'matlab_folder\\')\"')\n",
    "    \n",
    "    \n",
    "    # Retrieve results and determine whether this input is certified\n",
    "    opt_val = sio.loadmat(os.path.join(matlab_folder, 'SDP_optimum.mat'))\n",
    "    opt_val = opt_val['val']\n",
    "    if(opt_val < 0):\n",
    "        print('Input example is robust to perturbation to adv class ' + str(adv_class))\n",
    "    else:\n",
    "        print('Input example cannot be certified as robust to perturbation to adv class ' + str(adv_class))\n",
    "        exit()\n",
    "print('Input example succesfully verified')"
   ]
  },
  {
   "cell_type": "markdown",
   "metadata": {},
   "source": [
    "### Check predicted values"
   ]
  },
  {
   "cell_type": "code",
   "execution_count": 14,
   "metadata": {},
   "outputs": [
    {
     "data": {
      "text/plain": [
       "0"
      ]
     },
     "execution_count": 14,
     "metadata": {},
     "output_type": "execute_result"
    }
   ],
   "source": [
    "# Get 10.000 fake images\n",
    "fake_images = np.repeat(test_input, 10000, axis=1) + np.random.uniform(-1, 1, (784, 10000))*0.1\n",
    "\n",
    "# Calculate predicted values\n",
    "out_layer_1 = net_weights[0].dot(fake_images) + net_biases[0].reshape(-1, 1)\n",
    "output = net_weights[1].dot(out_layer_1) + net_biases[1].reshape(-1, 1)\n",
    "\n",
    "Y_pred = np.argmax(output, axis = 0)\n",
    "\n",
    "# Incorrectly predicted values \n",
    "np.sum(Y_pred == adv_class)"
   ]
  },
  {
   "cell_type": "code",
   "execution_count": 15,
   "metadata": {},
   "outputs": [
    {
     "data": {
      "text/plain": [
       "(array([0], dtype=int64), array([10000], dtype=int64))"
      ]
     },
     "execution_count": 15,
     "metadata": {},
     "output_type": "execute_result"
    }
   ],
   "source": [
    "# Predicted values and its occurrence\n",
    "np.unique(Y_pred, return_counts=True)"
   ]
  },
  {
   "cell_type": "markdown",
   "metadata": {},
   "source": [
    "## Applying on model 3: PGD-NN"
   ]
  },
  {
   "cell_type": "markdown",
   "metadata": {},
   "source": [
    "### Retrieve model and parameters"
   ]
  },
  {
   "cell_type": "code",
   "execution_count": 62,
   "metadata": {},
   "outputs": [
    {
     "name": "stdout",
     "output_type": "stream",
     "text": [
      "dict_keys(['model1/dense_1/bias', 'model1/dense/bias', 'model1/dense_1/kernel', 'model1/dense/kernel', 'model1/dense_2/bias', 'model1/dense_2/kernel', 'model1/dense_3/kernel', 'model1/dense_3/bias'])\n"
     ]
    }
   ],
   "source": [
    "reader = tf.train.load_checkpoint(\"models/nips_pgd.ckpt\")\n",
    "\n",
    "# Get variables' names\n",
    "variable_map = reader.get_variable_to_shape_map()\n",
    "checkpoint_variable_names = variable_map.keys()\n",
    "\n",
    "print(checkpoint_variable_names)"
   ]
  },
  {
   "cell_type": "code",
   "execution_count": 63,
   "metadata": {},
   "outputs": [],
   "source": [
    "# This model is only feedforward layer with ReLU activations\n",
    "net_layer_types = ['ff_relu', 'ff_relu', 'ff_relu', 'ff']\n",
    "\n",
    "# Get weights  \n",
    "net_weights = [\n",
    "    reader.get_tensor(tensor_str='model1/dense/kernel').T,\n",
    "    reader.get_tensor(tensor_str='model1/dense_1/kernel').T,\n",
    "    reader.get_tensor(tensor_str='model1/dense_2/kernel').T,\n",
    "    reader.get_tensor(tensor_str='model1/dense_3/kernel').T,\n",
    "]\n",
    "\n",
    "# Get biases\n",
    "net_biases = [\n",
    "    reader.get_tensor(tensor_str='model1/dense/bias'),\n",
    "    reader.get_tensor(tensor_str='model1/dense_1/bias'),\n",
    "    reader.get_tensor(tensor_str='model1/dense_2/bias'),\n",
    "    reader.get_tensor(tensor_str='model1/dense_3/bias'),\n",
    "]\n",
    "\n",
    "# Re-build neural net\n",
    "nn_params = neural_net_params.NeuralNetParams(\n",
    "  net_weights, net_biases, net_layer_types)"
   ]
  },
  {
   "cell_type": "code",
   "execution_count": 143,
   "metadata": {},
   "outputs": [
    {
     "name": "stdout",
     "output_type": "stream",
     "text": [
      "6\n"
     ]
    }
   ],
   "source": [
    "# Get randomly an image from MNIST to run certification\n",
    "ind = np.random.randint(len(X))\n",
    "\n",
    "test_input = X[ind].reshape(-1,1) / 255.\n",
    "true_class = Y.astype(int)[ind]\n",
    "print(true_class)"
   ]
  },
  {
   "cell_type": "code",
   "execution_count": 137,
   "metadata": {},
   "outputs": [
    {
     "data": {
      "image/png": "[encoded data removed]",
      "text/plain": [
       "<Figure size 432x288 with 1 Axes>"
      ]
     },
     "metadata": {
      "needs_background": "light"
     },
     "output_type": "display_data"
    }
   ],
   "source": [
    "# Check this image\n",
    "plt.figure()\n",
    "plt.imshow(test_input.reshape(28, 28))\n",
    "plt.gray()\n",
    "plt.axis(\"off\")\n",
    "plt.show()"
   ]
  },
  {
   "cell_type": "code",
   "execution_count": 71,
   "metadata": {},
   "outputs": [],
   "source": [
    "# Because true_class = 6, we want to run certification on adversarial class = 5\n",
    "adv_class = 5\n",
    "input_minval = 0\n",
    "input_maxval = 1"
   ]
  },
  {
   "cell_type": "markdown",
   "metadata": {},
   "source": [
    "### Run SDP Certification on adversarial class 5"
   ]
  },
  {
   "cell_type": "code",
   "execution_count": 72,
   "metadata": {},
   "outputs": [
    {
     "name": "stdout",
     "output_type": "stream",
     "text": [
      "matlab_folder\n",
      "(200, 784)\n",
      "(100, 200)\n",
      "(50, 100)\n",
      "Input example is robust to perturbation to adv class 5\n",
      "Input example succesfully verified\n"
     ]
    }
   ],
   "source": [
    "with tf.Session() as sess:\n",
    "    sess.run(tf.global_variables_initializer())\n",
    "    if not os.path.exists(matlab_folder):\n",
    "        os.mkdir(matlab_folder)\n",
    "    matlab_object = matlab_interface.MatlabInterface(matlab_folder)\n",
    "    # Save weights of NN model to matlab_object\n",
    "    matlab_object.save_weights(nn_params, sess)\n",
    "    opt_params = {}\n",
    "    opt_params['test_input'] = test_input\n",
    "    opt_params['epsilon'] = epsilon\n",
    "    opt_params['true_class'] = true_class\n",
    "    opt_params['adv_class'] = adv_class\n",
    "    opt_params['final_linear'] = sess.run(nn_params.final_weights[adv_class, :]\n",
    "             - nn_params.final_weights[true_class, :])\n",
    "    opt_params['final_constant'] = sess.run(nn_params.final_bias[adv_class]\n",
    "               - nn_params.final_bias[true_class])\n",
    "    lower, upper = compute_bounds.compute_bounds(test_input, epsilon,\n",
    "                                       input_minval, input_maxval, nn_params)\n",
    "    opt_params['lower'] = [sess.run(l) for l in lower]\n",
    "    opt_params['upper'] = [sess.run(u) for u in upper]\n",
    "    # Save optimisation's parameters to matlab_object\n",
    "    matlab_object.save_opt_params(opt_params)\n",
    "    # Run certification by resolving a optimisation problem on Matlab\n",
    "    os.system('matlab -sd \"THANG HOANG\\SDP\" -batch \"matlab_sdp(\\'matlab_folder\\')\"')\n",
    "    # Retrieve results and determine whether this input is certified\n",
    "    opt_val = sio.loadmat(os.path.join(matlab_folder, 'SDP_optimum.mat'))\n",
    "    opt_val = opt_val['val']\n",
    "    if(opt_val < 0):\n",
    "        print('Input example is robust to perturbation to adv class ' + str(adv_class))\n",
    "    else:\n",
    "        print('Input example cannot be certified as robust to perturbation to adv class ' + str(adv_class))\n",
    "        exit()\n",
    "print('Input example succesfully verified')"
   ]
  },
  {
   "cell_type": "markdown",
   "metadata": {},
   "source": [
    "### Check several attack images can"
   ]
  },
  {
   "cell_type": "code",
   "execution_count": 144,
   "metadata": {},
   "outputs": [],
   "source": [
    "# Get 10.000 fake images\n",
    "fake_images = np.repeat(test_input, 10000, axis=1) + np.random.uniform(-1, 1, (784, 10000))*0.1\n",
    "\n",
    "# Calculate output\n",
    "out_layer_1 = np.maximum(0, net_weights[0].dot(fake_images) + net_biases[0].reshape(-1, 1))\n",
    "out_layer_2 = np.maximum(0, net_weights[1].dot(out_layer_1) + net_biases[1].reshape(-1, 1))\n",
    "out_layer_3 = np.maximum(0, net_weights[2].dot(out_layer_2) + net_biases[2].reshape(-1, 1))\n",
    "output = net_weights[3].dot(out_layer_3) + net_biases[3].reshape(-1, 1)"
   ]
  },
  {
   "cell_type": "code",
   "execution_count": 147,
   "metadata": {},
   "outputs": [
    {
     "data": {
      "text/plain": [
       "0"
      ]
     },
     "execution_count": 147,
     "metadata": {},
     "output_type": "execute_result"
    }
   ],
   "source": [
    "# Predicted values\n",
    "Y_pred = np.argmax(output, axis = 0)\n",
    "np.sum(Y_pred == 5)"
   ]
  },
  {
   "cell_type": "code",
   "execution_count": 148,
   "metadata": {},
   "outputs": [
    {
     "data": {
      "text/plain": [
       "(array([6], dtype=int64), array([10000], dtype=int64))"
      ]
     },
     "execution_count": 148,
     "metadata": {},
     "output_type": "execute_result"
    }
   ],
   "source": [
    "# Predicted values and occurrence\n",
    "np.unique(Y_pred, return_counts=True)"
   ]
  },
  {
   "cell_type": "markdown",
   "metadata": {},
   "source": [
    "# Conclusion"
   ]
  },
  {
   "cell_type": "markdown",
   "metadata": {},
   "source": [
    "With in the scope of this project, we have re-implemented the certification robustness following methods proposed by the article. More detail, all three networks proposed by the authors were employed for testing the certification with 3 image inputs, which are selected randomly from MNIST.\n",
    "\n",
    "The results show that all these images are certified as robustness to several adversarial examples. Since all of them are certified, we still would like to try other attacks to these models by other adversarial examples (we created 10000 images by adding noise to 3 original images mentioned above) and the results show that there are no fake images can make the model turning incorrect prediction. Thus, it can be seen that this method works for all images we had chosen.\n",
    "\n",
    "\n",
    "However, due to our limit of resources' capacity, we could not do more tests on more different examples with diverse classes. (In the paper, it mentioned that on a 4-core CPU, the average SDP computation took around 25 minutes and the LP around 5 minutes per example. However, it took actually more than 3 hours for each computation.)"
   ]
  }
 ],
 "metadata": {
  "kernelspec": {
   "display_name": "THANGHOANG",
   "language": "python",
   "name": "thanghoang"
  },
  "language_info": {
   "codemirror_mode": {
    "name": "ipython",
    "version": 3
   },
   "file_extension": ".py",
   "mimetype": "text/x-python",
   "name": "python",
   "nbconvert_exporter": "python",
   "pygments_lexer": "ipython3",
   "version": "3.6.7"
  },
  "toc": {
   "base_numbering": 1,
   "nav_menu": {},
   "number_sections": true,
   "sideBar": true,
   "skip_h1_title": false,
   "title_cell": "Table of Contents",
   "title_sidebar": "Contents",
   "toc_cell": false,
   "toc_position": {
    "height": "calc(100% - 180px)",
    "left": "10px",
    "top": "150px",
    "width": "229.697px"
   },
   "toc_section_display": true,
   "toc_window_display": true
  }
 },
 "nbformat": 4,
 "nbformat_minor": 2
}